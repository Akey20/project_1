{
 "cells": [
  {
   "cell_type": "code",
   "execution_count": 1,
   "metadata": {},
   "outputs": [],
   "source": [
    "# Dependencies\n",
    "import numpy as np\n",
    "import pandas as pd\n",
    "import matplotlib.pyplot as plt\n",
    "import requests\n",
    "from census import Census\n",
    "import gmaps\n",
    "import os\n",
    "import json\n",
    "import time\n",
    "# Census API Key\n",
    "from config import api_key"
   ]
  },
  {
   "cell_type": "code",
   "execution_count": 2,
   "metadata": {},
   "outputs": [
    {
     "data": {
      "text/plain": [
       "'https://api.census.gov/data/2019/acs/acs5'"
      ]
     },
     "metadata": {},
     "output_type": "display_data"
    }
   ],
   "source": [
    "#census_data = c.acs5.get().json()\n",
    "query_url = f\"https://api.census.gov/data/2019/acs/acs5\"\n",
    "display(query_url)\n",
    "#https://api.census.gov/data#/2019/acs/acs5&{api_key}#?get=NAME,group(B01001)&for=us:1&key={api_key}"
   ]
  },
  {
   "cell_type": "code",
   "execution_count": 3,
   "metadata": {},
   "outputs": [
    {
     "data": {
      "text/html": [
       "<div>\n",
       "<style scoped>\n",
       "    .dataframe tbody tr th:only-of-type {\n",
       "        vertical-align: middle;\n",
       "    }\n",
       "\n",
       "    .dataframe tbody tr th {\n",
       "        vertical-align: top;\n",
       "    }\n",
       "\n",
       "    .dataframe thead th {\n",
       "        text-align: right;\n",
       "    }\n",
       "</style>\n",
       "<table border=\"1\" class=\"dataframe\">\n",
       "  <thead>\n",
       "    <tr style=\"text-align: right;\">\n",
       "      <th></th>\n",
       "      <th>Zipcode</th>\n",
       "      <th>Household Income</th>\n",
       "      <th>Income per Capita</th>\n",
       "      <th>Population</th>\n",
       "      <th>Median Contract Rent</th>\n",
       "      <th>Median Gross Rent</th>\n",
       "      <th>Median Home Value</th>\n",
       "      <th>Median Monthly Owner Costs</th>\n",
       "      <th>Median Age</th>\n",
       "      <th>Year</th>\n",
       "    </tr>\n",
       "  </thead>\n",
       "  <tbody>\n",
       "    <tr>\n",
       "      <th>0</th>\n",
       "      <td>00601</td>\n",
       "      <td>11757.0</td>\n",
       "      <td>7041.0</td>\n",
       "      <td>17599.0</td>\n",
       "      <td>291.0</td>\n",
       "      <td>373.0</td>\n",
       "      <td>82500.0</td>\n",
       "      <td>748.0</td>\n",
       "      <td>38.9</td>\n",
       "      <td>2017</td>\n",
       "    </tr>\n",
       "    <tr>\n",
       "      <th>1</th>\n",
       "      <td>00602</td>\n",
       "      <td>16190.0</td>\n",
       "      <td>8978.0</td>\n",
       "      <td>39209.0</td>\n",
       "      <td>304.0</td>\n",
       "      <td>380.0</td>\n",
       "      <td>87300.0</td>\n",
       "      <td>846.0</td>\n",
       "      <td>40.9</td>\n",
       "      <td>2017</td>\n",
       "    </tr>\n",
       "    <tr>\n",
       "      <th>2</th>\n",
       "      <td>00603</td>\n",
       "      <td>16645.0</td>\n",
       "      <td>10897.0</td>\n",
       "      <td>50135.0</td>\n",
       "      <td>306.0</td>\n",
       "      <td>400.0</td>\n",
       "      <td>122300.0</td>\n",
       "      <td>867.0</td>\n",
       "      <td>40.4</td>\n",
       "      <td>2017</td>\n",
       "    </tr>\n",
       "    <tr>\n",
       "      <th>3</th>\n",
       "      <td>00606</td>\n",
       "      <td>13387.0</td>\n",
       "      <td>5960.0</td>\n",
       "      <td>6304.0</td>\n",
       "      <td>185.0</td>\n",
       "      <td>284.0</td>\n",
       "      <td>92700.0</td>\n",
       "      <td>538.0</td>\n",
       "      <td>42.8</td>\n",
       "      <td>2017</td>\n",
       "    </tr>\n",
       "    <tr>\n",
       "      <th>4</th>\n",
       "      <td>00610</td>\n",
       "      <td>18741.0</td>\n",
       "      <td>9266.0</td>\n",
       "      <td>27590.0</td>\n",
       "      <td>322.0</td>\n",
       "      <td>415.0</td>\n",
       "      <td>90300.0</td>\n",
       "      <td>733.0</td>\n",
       "      <td>41.4</td>\n",
       "      <td>2017</td>\n",
       "    </tr>\n",
       "  </tbody>\n",
       "</table>\n",
       "</div>"
      ],
      "text/plain": [
       "  Zipcode  Household Income  Income per Capita  Population  \\\n",
       "0   00601           11757.0             7041.0     17599.0   \n",
       "1   00602           16190.0             8978.0     39209.0   \n",
       "2   00603           16645.0            10897.0     50135.0   \n",
       "3   00606           13387.0             5960.0      6304.0   \n",
       "4   00610           18741.0             9266.0     27590.0   \n",
       "\n",
       "   Median Contract Rent  Median Gross Rent  Median Home Value  \\\n",
       "0                 291.0              373.0            82500.0   \n",
       "1                 304.0              380.0            87300.0   \n",
       "2                 306.0              400.0           122300.0   \n",
       "3                 185.0              284.0            92700.0   \n",
       "4                 322.0              415.0            90300.0   \n",
       "\n",
       "   Median Monthly Owner Costs  Median Age  Year  \n",
       "0                       748.0        38.9  2017  \n",
       "1                       846.0        40.9  2017  \n",
       "2                       867.0        40.4  2017  \n",
       "3                       538.0        42.8  2017  \n",
       "4                       733.0        41.4  2017  "
      ]
     },
     "metadata": {},
     "output_type": "display_data"
    }
   ],
   "source": [
    "# Run Census Search to retrieve data on all zip codes (2013 ACS5 Census)\n",
    "# See: https://github.com/CommerceDataService/census-wrapper for library documentation\n",
    "# See: https://gist.github.com/afhaque/60558290d6efd892351c4b64e5c01e9b for labels\n",
    "\n",
    "cols = [\"Zipcode\", \"Household Income\", \"Income per Capita\", \"Population\",\n",
    "        \"Median Contract Rent\", \"Median Gross Rent\", \"Median Home Value\",\n",
    "        \"Median Monthly Owner Costs\",\"Median Age\", \"Year\"]\n",
    "\n",
    "df = pd.DataFrame(columns = cols)\n",
    "\n",
    "#years = [2014, 2019]\n",
    "#years = [2015, 2015, 2016, 2017, 2018, 2019]\n",
    "years = [2017]\n",
    "for year in years:\n",
    "\n",
    "    c = Census(api_key, year=year)\n",
    "    census_data = c.acs5.get((\"NAME\", \"B19013_001E\", \n",
    "                              \"B19301_001E\", \n",
    "                              \"B01003_001E\",\n",
    "                              \"B25058_001E\",\n",
    "                              \"B25064_001E\", \n",
    "                              \"B25077_001E\", \n",
    "                              \"B25088_002E\", \n",
    "                              \"B01002_001E\"), {'for': 'zip code tabulation area:*'})\n",
    "\n",
    "    # Convert to DataFrame\n",
    "    census_pd = pd.DataFrame(census_data)\n",
    "\n",
    "    # Column Reordering\n",
    "    census_pd = census_pd.rename(columns={\"B19013_001E\": \"Household Income\",\n",
    "                                          \"B19301_001E\": \"Income per Capita\",\n",
    "                                          \"B01003_001E\": \"Population\",\n",
    "                                          \"B25058_001E\": \"Median Contract Rent\",\n",
    "                                          \"B25064_001E\": \"Median Gross Rent\",\n",
    "                                          \"B25077_001E\": \"Median Home Value\",\n",
    "                                          \"B25088_002E\": \"Median Monthly Owner Costs\",\n",
    "                                          \"B01002_001E\": \"Median Age\",\n",
    "                                          \"NAME\": \"Name\", \"zip code tabulation area\": \"Zipcode\"})\n",
    "\n",
    "\n",
    "    # Final DataFrame\n",
    "    census_pd['Year']=str(year)\n",
    "    \n",
    "    census_pd = census_pd[cols]\n",
    "    \n",
    "    \n",
    "    concat_df = pd.concat([df, census_pd])\n",
    "\n",
    "# Visualize\n",
    "#print(len(census_pd))\n",
    "display(concat_df.head())"
   ]
  },
  {
   "cell_type": "code",
   "execution_count": 4,
   "metadata": {},
   "outputs": [],
   "source": [
    "#Need to clean or drop the data with 666666 in it."
   ]
  },
  {
   "cell_type": "code",
   "execution_count": 5,
   "metadata": {},
   "outputs": [],
   "source": [
    "# Save as a csv\n",
    "# Note to avoid any issues later, use encoding=\"utf-8\"\n",
    "concat_df.to_csv(\"census_data.csv\", encoding=\"utf-8\", index=False)"
   ]
  },
  {
   "cell_type": "code",
   "execution_count": 6,
   "metadata": {},
   "outputs": [
    {
     "name": "stdout",
     "output_type": "stream",
     "text": [
      "Census_Demo.ipynb\n",
      "README.md\n",
      "__pycache__\n",
      "api_keys.py\n",
      "census_data.csv\n",
      "census_data2019.csv\n",
      "census_data_2017Years.csv\n",
      "config.py\n",
      "files\n"
     ]
    }
   ],
   "source": [
    "!ls"
   ]
  },
  {
   "cell_type": "code",
   "execution_count": 7,
   "metadata": {},
   "outputs": [
    {
     "data": {
      "text/html": [
       "<div>\n",
       "<style scoped>\n",
       "    .dataframe tbody tr th:only-of-type {\n",
       "        vertical-align: middle;\n",
       "    }\n",
       "\n",
       "    .dataframe tbody tr th {\n",
       "        vertical-align: top;\n",
       "    }\n",
       "\n",
       "    .dataframe thead th {\n",
       "        text-align: right;\n",
       "    }\n",
       "</style>\n",
       "<table border=\"1\" class=\"dataframe\">\n",
       "  <thead>\n",
       "    <tr style=\"text-align: right;\">\n",
       "      <th></th>\n",
       "      <th>ZIP</th>\n",
       "      <th>MA</th>\n",
       "      <th>MANAME</th>\n",
       "    </tr>\n",
       "  </thead>\n",
       "  <tbody>\n",
       "    <tr>\n",
       "      <th>0</th>\n",
       "      <td>400</td>\n",
       "      <td>35620.0</td>\n",
       "      <td>New York-Newark-Jersey City NY-NJ-PA</td>\n",
       "    </tr>\n",
       "    <tr>\n",
       "      <th>1</th>\n",
       "      <td>501</td>\n",
       "      <td>35620.0</td>\n",
       "      <td>New York-Newark-Jersey City NY-NJ-PA</td>\n",
       "    </tr>\n",
       "    <tr>\n",
       "      <th>2</th>\n",
       "      <td>544</td>\n",
       "      <td>35620.0</td>\n",
       "      <td>New York-Newark-Jersey City NY-NJ-PA</td>\n",
       "    </tr>\n",
       "    <tr>\n",
       "      <th>3</th>\n",
       "      <td>1001</td>\n",
       "      <td>44140.0</td>\n",
       "      <td>Springfield MA</td>\n",
       "    </tr>\n",
       "    <tr>\n",
       "      <th>4</th>\n",
       "      <td>1002</td>\n",
       "      <td>44140.0</td>\n",
       "      <td>Springfield MA</td>\n",
       "    </tr>\n",
       "    <tr>\n",
       "      <th>...</th>\n",
       "      <td>...</td>\n",
       "      <td>...</td>\n",
       "      <td>...</td>\n",
       "    </tr>\n",
       "    <tr>\n",
       "      <th>40932</th>\n",
       "      <td>99926</td>\n",
       "      <td>NaN</td>\n",
       "      <td>NaN</td>\n",
       "    </tr>\n",
       "    <tr>\n",
       "      <th>40933</th>\n",
       "      <td>99927</td>\n",
       "      <td>NaN</td>\n",
       "      <td>NaN</td>\n",
       "    </tr>\n",
       "    <tr>\n",
       "      <th>40934</th>\n",
       "      <td>99928</td>\n",
       "      <td>NaN</td>\n",
       "      <td>NaN</td>\n",
       "    </tr>\n",
       "    <tr>\n",
       "      <th>40935</th>\n",
       "      <td>99929</td>\n",
       "      <td>NaN</td>\n",
       "      <td>NaN</td>\n",
       "    </tr>\n",
       "    <tr>\n",
       "      <th>40936</th>\n",
       "      <td>99950</td>\n",
       "      <td>NaN</td>\n",
       "      <td>NaN</td>\n",
       "    </tr>\n",
       "  </tbody>\n",
       "</table>\n",
       "<p>40937 rows × 3 columns</p>\n",
       "</div>"
      ],
      "text/plain": [
       "         ZIP       MA                                MANAME\n",
       "0        400  35620.0  New York-Newark-Jersey City NY-NJ-PA\n",
       "1        501  35620.0  New York-Newark-Jersey City NY-NJ-PA\n",
       "2        544  35620.0  New York-Newark-Jersey City NY-NJ-PA\n",
       "3       1001  44140.0                        Springfield MA\n",
       "4       1002  44140.0                        Springfield MA\n",
       "...      ...      ...                                   ...\n",
       "40932  99926      NaN                                   NaN\n",
       "40933  99927      NaN                                   NaN\n",
       "40934  99928      NaN                                   NaN\n",
       "40935  99929      NaN                                   NaN\n",
       "40936  99950      NaN                                   NaN\n",
       "\n",
       "[40937 rows x 3 columns]"
      ]
     },
     "execution_count": 7,
     "metadata": {},
     "output_type": "execute_result"
    }
   ],
   "source": [
    "#create DataFrame for MSA\n",
    "#https://www.roelpeters.be/solved-dtypewarning-columns-have-mixed-types-specify-dtype-option-on-import-or-set-low-memory-in-pandas/\n",
    "msa_df = pd.read_csv('../project_1/files/ScanUSZipCode2017A.csv',low_memory=False)\n",
    "msa_df"
   ]
  },
  {
   "cell_type": "code",
   "execution_count": 8,
   "metadata": {},
   "outputs": [
    {
     "name": "stdout",
     "output_type": "stream",
     "text": [
      "ZIP         int64\n",
      "MA        float64\n",
      "MANAME     object\n",
      "dtype: object\n"
     ]
    }
   ],
   "source": [
    "#Comparing Data Types between the two diffrent dataframes to make certain they match for the merge\n",
    "print(msa_df.dtypes)"
   ]
  },
  {
   "cell_type": "code",
   "execution_count": 9,
   "metadata": {},
   "outputs": [
    {
     "name": "stdout",
     "output_type": "stream",
     "text": [
      "Zipcode                        object\n",
      "Household Income              float64\n",
      "Income per Capita             float64\n",
      "Population                    float64\n",
      "Median Contract Rent          float64\n",
      "Median Gross Rent             float64\n",
      "Median Home Value             float64\n",
      "Median Monthly Owner Costs    float64\n",
      "Median Age                    float64\n",
      "Year                           object\n",
      "dtype: object\n"
     ]
    }
   ],
   "source": [
    "print(concat_df.dtypes) \n",
    "    "
   ]
  },
  {
   "cell_type": "code",
   "execution_count": 10,
   "metadata": {},
   "outputs": [],
   "source": [
    "#convert Zipcode datatype in concat_df to be int64\n",
    "#https://www.kite.com/python/answers/how-to-convert-a-pandas-dataframe-column-from-object-to-int-in-python\n",
    "concat_df[\"Zipcode\"] = concat_df[\"Zipcode\"].astype(object).astype(int)"
   ]
  },
  {
   "cell_type": "code",
   "execution_count": 11,
   "metadata": {},
   "outputs": [],
   "source": [
    "#Rename ZIP column in MSA to match Zipcode from Census data\n",
    "#https://note.nkmk.me/en/python-pandas-dataframe-rename/\n",
    "msa_df.rename(columns={'ZIP': 'Zipcode'}, inplace=True)\n"
   ]
  },
  {
   "cell_type": "code",
   "execution_count": 12,
   "metadata": {},
   "outputs": [],
   "source": [
    "#Merge data frames and drop the values in the census data with -666666666\n",
    "merged_census_df = pd.merge(concat_df, msa_df, how=\"left\", on=[\"Zipcode\", \"Zipcode\"])\n",
    "merged_census_df\n",
    "merged_census_df.drop(merged_census_df[merged_census_df[\"Household Income\"] == -666666666].index, inplace = True)\n",
    "merged_census_df.drop(merged_census_df[merged_census_df[\"Income per Capita\"] == -666666666].index, inplace = True)\n",
    "merged_census_df.drop(merged_census_df[merged_census_df[\"Population\"] == -666666666].index, inplace = True)\n",
    "merged_census_df.drop(merged_census_df[merged_census_df[\"Median Contract Rent\"] == -666666666].index, inplace = True)\n",
    "merged_census_df.drop(merged_census_df[merged_census_df[\"Median Gross Rent\"] == -666666666].index, inplace = True)\n",
    "merged_census_df.drop(merged_census_df[merged_census_df[\"Median Home Value\"] == -666666666].index, inplace = True)       \n",
    "merged_census_df.drop(merged_census_df[merged_census_df[\"Median Monthly Owner Costs\"] == -666666666].index, inplace = True)      \n",
    "merged_census_df.drop(merged_census_df[merged_census_df[\"Median Age\"] == -666666666].index, inplace = True) \n",
    "       "
   ]
  },
  {
   "cell_type": "code",
   "execution_count": 13,
   "metadata": {},
   "outputs": [],
   "source": [
    "# Save as a csv to check full data set\n",
    "# Note to avoid any issues later, use encoding=\"utf-8\"\n",
    "merged_census_df.to_csv(\"census_data_2017Years.csv\", encoding=\"utf-8\", index=False)"
   ]
  },
  {
   "cell_type": "code",
   "execution_count": 14,
   "metadata": {},
   "outputs": [],
   "source": [
    "#pushed"
   ]
  },
  {
   "cell_type": "code",
   "execution_count": null,
   "metadata": {},
   "outputs": [],
   "source": []
  },
  {
   "cell_type": "code",
   "execution_count": null,
   "metadata": {},
   "outputs": [],
   "source": []
  }
 ],
 "metadata": {
  "anaconda-cloud": {},
  "kernelspec": {
   "display_name": "Python 3",
   "language": "python",
   "name": "python3"
  },
  "language_info": {
   "codemirror_mode": {
    "name": "ipython",
    "version": 3
   },
   "file_extension": ".py",
   "mimetype": "text/x-python",
   "name": "python",
   "nbconvert_exporter": "python",
   "pygments_lexer": "ipython3",
   "version": "3.6.10"
  },
  "latex_envs": {
   "LaTeX_envs_menu_present": true,
   "autoclose": false,
   "autocomplete": true,
   "bibliofile": "biblio.bib",
   "cite_by": "apalike",
   "current_citInitial": 1,
   "eqLabelWithNumbers": true,
   "eqNumInitial": 1,
   "hotkeys": {
    "equation": "Ctrl-E",
    "itemize": "Ctrl-I"
   },
   "labels_anchors": false,
   "latex_user_defs": false,
   "report_style_numbering": false,
   "user_envs_cfg": false
  }
 },
 "nbformat": 4,
 "nbformat_minor": 1
}
