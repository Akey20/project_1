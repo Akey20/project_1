{
 "cells": [
  {
   "cell_type": "code",
   "execution_count": 1,
   "metadata": {},
   "outputs": [
    {
     "ename": "ModuleNotFoundError",
     "evalue": "No module named 'gmplot'",
     "output_type": "error",
     "traceback": [
      "\u001b[1;31m---------------------------------------------------------------------------\u001b[0m",
      "\u001b[1;31mModuleNotFoundError\u001b[0m                       Traceback (most recent call last)",
      "\u001b[1;32m<ipython-input-1-e5ab73391f27>\u001b[0m in \u001b[0;36m<module>\u001b[1;34m\u001b[0m\n\u001b[0;32m     14\u001b[0m \u001b[1;32mimport\u001b[0m \u001b[0mgmaps\u001b[0m\u001b[1;33m\u001b[0m\u001b[1;33m\u001b[0m\u001b[0m\n\u001b[0;32m     15\u001b[0m \u001b[1;32mimport\u001b[0m \u001b[0mrequests\u001b[0m\u001b[1;33m\u001b[0m\u001b[1;33m\u001b[0m\u001b[0m\n\u001b[1;32m---> 16\u001b[1;33m \u001b[1;32mimport\u001b[0m \u001b[0mgmplot\u001b[0m\u001b[1;33m\u001b[0m\u001b[1;33m\u001b[0m\u001b[0m\n\u001b[0m\u001b[0;32m     17\u001b[0m \u001b[1;32mimport\u001b[0m \u001b[0mtime\u001b[0m\u001b[1;33m\u001b[0m\u001b[1;33m\u001b[0m\u001b[0m\n\u001b[0;32m     18\u001b[0m \u001b[1;32mfrom\u001b[0m \u001b[0mscipy\u001b[0m\u001b[1;33m.\u001b[0m\u001b[0mstats\u001b[0m \u001b[1;32mimport\u001b[0m \u001b[0mlinregress\u001b[0m\u001b[1;33m\u001b[0m\u001b[1;33m\u001b[0m\u001b[0m\n",
      "\u001b[1;31mModuleNotFoundError\u001b[0m: No module named 'gmplot'"
     ]
    }
   ],
   "source": [
    "# Dependencies\n",
    "import numpy as np\n",
    "import pandas as pd\n",
    "import matplotlib.pyplot as plt\n",
    "import requests\n",
    "from census import Census\n",
    "import gmaps\n",
    "import os\n",
    "import json\n",
    "import time\n",
    "# Census API Key\n",
    "from config import api_key\n",
    "from config import g_key\n",
    "import gmaps\n",
    "import requests\n",
    "import gmplot\n",
    "import time\n",
    "from scipy.stats import linregress\n",
    "from pprint import pprint\n",
    "import seaborn as sns"
   ]
  },
  {
   "cell_type": "code",
   "execution_count": null,
   "metadata": {},
   "outputs": [],
   "source": [
    "#census_data = c.acs5.get().json()\n",
    "#Purpose is to test Query url and review the results of the URL in a borwser to better understand the data\n",
    "#And validate the URL\n",
    "query_url = f\"https://api.census.gov/data/2019/acs/acs5\"\n",
    "display(query_url)\n",
    "#https://api.census.gov/data#/2019/acs/acs5&{api_key}#?get=NAME,group(B01001)&for=us:1&key={api_key}"
   ]
  },
  {
   "cell_type": "code",
   "execution_count": null,
   "metadata": {},
   "outputs": [],
   "source": [
    "# Run Census Search to retrieve data on all zip codes (2013 ACS5 Census)\n",
    "# See: https://github.com/CommerceDataService/census-wrapper for library documentation\n",
    "# See: https://gist.github.com/afhaque/60558290d6efd892351c4b64e5c01e9b for labels\n",
    "\n",
    "#Loop created to create and join the 2014 ACS 5 year an 2019 ACS 5 year data.\n",
    "\n",
    "cols = [\"Zipcode\", \"Household Income\", \"Population\",\n",
    "        \"Median Contract Rent\", \"Median Gross Rent\", \"Median Home Value\",\n",
    "        \"Median Monthly Owner Costs\", \"Year\"]\n",
    "\n",
    "\n",
    "years = [2014, 2019]\n",
    "#years = [2015, 2015, 2016, 2017, 2018, 2019]\n",
    "#years = [2019]\n",
    "for year in years:\n",
    "\n",
    "    c = Census(api_key, year=year)\n",
    "    census_data = c.acs5.get((\"NAME\", \"B19013_001E\", \n",
    "                              \"B01003_001E\",\n",
    "                              \"B25058_001E\",\n",
    "                              \"B25064_001E\", \n",
    "                              \"B25077_001E\", \n",
    "                              \"B25088_002E\"), {'for': 'zip code tabulation area:*'})\n",
    "\n",
    "    # Convert to DataFrame\n",
    "    census_pd = pd.DataFrame(census_data)\n",
    "\n",
    "    # Column Reordering\n",
    "    census_pd = census_pd.rename(columns={\"B19013_001E\": f\"Household Income_{year}\",\n",
    "                                          \"B01003_001E\": f\"Population_{year}\",\n",
    "                                          \"B25058_001E\": f\"Median Contract Rent_{year}\",\n",
    "                                          \"B25064_001E\": f\"Median Gross Rent_{year}\",\n",
    "                                          \"B25077_001E\": f\"Median Home Value_{year}\",\n",
    "                                          \"B25088_002E\": f\"Median Monthly Owner Costs_{year}\",\n",
    "                                          \"NAME\": \"Name\",\n",
    "                                          \"zip code tabulation area\": \"Zipcode\"})\n",
    "    \n",
    "    census_pd = census_pd.drop(columns=['Name'])\n",
    "    # Final DataFrame\n",
    "    \n",
    "    \n",
    "    if year==2014:\n",
    "        df = census_pd\n",
    "    if year==2019:\n",
    "        df = df.merge(census_pd, how='inner', on=['Zipcode', 'state'])\n",
    "\n",
    "display(df.head())"
   ]
  },
  {
   "cell_type": "code",
   "execution_count": null,
   "metadata": {},
   "outputs": [],
   "source": [
    "# Save as a csv\n",
    "# Note to avoid any issues later, use encoding=\"utf-8\"\n",
    "df.to_csv(\"census_data.csv\", encoding=\"utf-8\", index=False)"
   ]
  },
  {
   "cell_type": "code",
   "execution_count": null,
   "metadata": {},
   "outputs": [],
   "source": [
    "!ls"
   ]
  },
  {
   "cell_type": "code",
   "execution_count": null,
   "metadata": {},
   "outputs": [],
   "source": [
    "#create DataFrame for MSA\n",
    "#https://www.roelpeters.be/solved-dtypewarning-columns-have-mixed-types-specify-dtype-option-on-import-or-set-low-memory-in-pandas/\n",
    "msa_df = pd.read_csv('../project_1/files/ScanUSZipCode2017A.csv',low_memory=False)\n",
    "msa_df"
   ]
  },
  {
   "cell_type": "code",
   "execution_count": null,
   "metadata": {},
   "outputs": [],
   "source": [
    "#Comparing Data Types between the two diffrent dataframes to make certain they match for the merge\n",
    "print(msa_df.dtypes)"
   ]
  },
  {
   "cell_type": "code",
   "execution_count": null,
   "metadata": {},
   "outputs": [],
   "source": [
    "print(df.dtypes) \n",
    "    "
   ]
  },
  {
   "cell_type": "code",
   "execution_count": null,
   "metadata": {},
   "outputs": [],
   "source": [
    "#convert Zipcode datatype in concat_df to be int64\n",
    "#https://www.kite.com/python/answers/how-to-convert-a-pandas-dataframe-column-from-object-to-int-in-python\n",
    "\n",
    "df[\"Zipcode\"] = df[\"Zipcode\"].astype(object).astype(int)"
   ]
  },
  {
   "cell_type": "code",
   "execution_count": null,
   "metadata": {},
   "outputs": [],
   "source": [
    "#Rename ZIP column in MSA to match Zipcode from Census data\n",
    "#https://note.nkmk.me/en/python-pandas-dataframe-rename/\n",
    "\n",
    "msa_df.rename(columns={'ZIP': 'Zipcode'}, inplace=True)\n"
   ]
  },
  {
   "cell_type": "code",
   "execution_count": null,
   "metadata": {},
   "outputs": [],
   "source": [
    "#Merge data frames and drop the values in the census data with -666666666\n",
    "#Some cells at the intesection of rows and colums had -666666666 , which represents missing, null ot incomplete data.\n",
    "#Those rows (zipcodes) with any data such as this were dropped from the dataset\n",
    "\n",
    "merged_census_df = pd.merge(df, msa_df, how=\"left\", on=[\"Zipcode\", \"Zipcode\"])\n",
    "merged_census_df\n",
    "merged_census_df.drop(merged_census_df[merged_census_df[\"Household Income_2014\"] == -666666666].index, inplace = True)\n",
    "merged_census_df.drop(merged_census_df[merged_census_df[\"Population_2014\"] == -666666666].index, inplace = True)\n",
    "merged_census_df.drop(merged_census_df[merged_census_df[\"Median Contract Rent_2014\"] == -666666666].index, inplace = True)\n",
    "merged_census_df.drop(merged_census_df[merged_census_df[\"Median Gross Rent_2014\"] == -666666666].index, inplace = True)\n",
    "merged_census_df.drop(merged_census_df[merged_census_df[\"Median Home Value_2014\"] == -666666666].index, inplace = True)       \n",
    "merged_census_df.drop(merged_census_df[merged_census_df[\"Median Monthly Owner Costs_2014\"] == -666666666].index, inplace = True) \n",
    "merged_census_df.drop(merged_census_df[merged_census_df[\"Household Income_2019\"] == -666666666].index, inplace = True)\n",
    "merged_census_df.drop(merged_census_df[merged_census_df[\"Population_2019\"] == -666666666].index, inplace = True)\n",
    "merged_census_df.drop(merged_census_df[merged_census_df[\"Median Contract Rent_2019\"] == -666666666].index, inplace = True)\n",
    "merged_census_df.drop(merged_census_df[merged_census_df[\"Median Gross Rent_2019\"] == -666666666].index, inplace = True)\n",
    "merged_census_df.drop(merged_census_df[merged_census_df[\"Median Home Value_2019\"] == -666666666].index, inplace = True)       \n",
    "merged_census_df.drop(merged_census_df[merged_census_df[\"Median Monthly Owner Costs_2019\"] == -666666666].index, inplace = True)\n",
    "\n",
    " "
   ]
  },
  {
   "cell_type": "code",
   "execution_count": null,
   "metadata": {},
   "outputs": [],
   "source": [
    "# Save as a csv to check full data set\n",
    "# Note to avoid any issues later, use encoding=\"utf-8\"\n",
    "merged_census_df.to_csv(\"census_data_2014_2019Years.csv\", encoding=\"utf-8\", index=False)"
   ]
  },
  {
   "cell_type": "code",
   "execution_count": null,
   "metadata": {},
   "outputs": [],
   "source": [
    "# Remove zips with no MA\n",
    "#Data cleansing step in which zipcodes that did not map to a MSA were dropped\n",
    "merged_census_df['MA'].replace('', np.nan, inplace = True)\n",
    "merged_census_df.dropna(subset=['MA'], inplace=True)\n",
    "merged_census_df.head()"
   ]
  },
  {
   "cell_type": "code",
   "execution_count": null,
   "metadata": {},
   "outputs": [],
   "source": [
    "# Create dataframe of home ownership\n",
    "#Data exported and reviewed as part of the projects ongoing data validation and quality review\n",
    "\n",
    "msa_home_ownership = pd.read_csv('../project_1/files/Census_Home_Ownership.csv',low_memory=False)\n",
    "msa_home_ownership\n"
   ]
  },
  {
   "cell_type": "code",
   "execution_count": null,
   "metadata": {},
   "outputs": [],
   "source": [
    "# Merge the ACS 5 Year census home ownership with existing data\n",
    "full_census_merge = pd.merge(merged_census_df, msa_home_ownership, how=\"left\", on=[\"MANAME\", \"MANAME\"])\n",
    "full_census_merge"
   ]
  },
  {
   "cell_type": "code",
   "execution_count": null,
   "metadata": {},
   "outputs": [],
   "source": [
    "#Filter out zips not contained in top 75 largest MSAs\n",
    "full_census_merge.dropna(inplace=True)\n",
    "full_census_merge"
   ]
  },
  {
   "cell_type": "code",
   "execution_count": null,
   "metadata": {
    "scrolled": true
   },
   "outputs": [],
   "source": [
    "# Check curreent dataframe types\n",
    "#Required for current and future merges.  Merges can only occur on the same dtypes.\n",
    "print(full_census_merge.dtypes)"
   ]
  },
  {
   "cell_type": "code",
   "execution_count": null,
   "metadata": {},
   "outputs": [],
   "source": [
    "#Initial merging of ACS 5 yeat data set for 2014 and 2019.\n",
    "# Convert median monthly owner cost to integer\n",
    "#The main data frame is called df.  Also, the columns are the original names witn _2014 and _2019 as a suffix\n",
    "full_census_merge[\"Median Monthly Owner Costs_2014\"] = full_census_merge[\"Median Monthly Owner Costs_2014\"].astype(object).astype(float)\n",
    "full_census_merge[\"Median Monthly Owner Costs_2019\"] = full_census_merge[\"Median Monthly Owner Costs_2019\"].astype(object).astype(float)"
   ]
  },
  {
   "cell_type": "code",
   "execution_count": null,
   "metadata": {},
   "outputs": [],
   "source": [
    "# Confirm data type conversion\n",
    "#Data type conversion had to occur earlier to merge data.\n",
    "#This is a subsequent quality and process check to vaidate results\n",
    "print(full_census_merge.dtypes)"
   ]
  },
  {
   "cell_type": "code",
   "execution_count": null,
   "metadata": {},
   "outputs": [],
   "source": [
    "# Create homeowner % averages\n",
    "full_census_merge[\"Average H%_2014\"] = full_census_merge[['2010 H%','2011 H%','2012 H%','2013 H%','2014 H%']].mean(axis=1)\n",
    "full_census_merge[\"Average H%_2019\"] = full_census_merge[['2015 H%','2016 H%','2017 H%','2018 H%','2019 H%']].mean(axis=1)"
   ]
  },
  {
   "cell_type": "code",
   "execution_count": null,
   "metadata": {},
   "outputs": [],
   "source": [
    "# Create weighted cost column\n",
    "full_census_merge[\"Weighted Cost_2014\"] = full_census_merge[\"Median Gross Rent_2014\"] * (1-full_census_merge[\"Average H%_2014\"] / 100) + full_census_merge[\"Median Monthly Owner Costs_2014\"] * full_census_merge[\"Average H%_2014\"] / 100\n",
    "full_census_merge[\"Weighted Cost_2019\"] = full_census_merge[\"Median Gross Rent_2019\"] * (1-full_census_merge[\"Average H%_2019\"] / 100) + full_census_merge[\"Median Monthly Owner Costs_2019\"] * full_census_merge[\"Average H%_2019\"] / 100\n",
    "full_census_merge"
   ]
  },
  {
   "cell_type": "markdown",
   "metadata": {},
   "source": [
    "# Create weighted cost column\n",
    "full_census_merge[\"Weighted Cost_2014\"] = full_census_merge[\"Median Gross Rent_2014\"] * (1-full_census_merge[\"Average H%_2014\"] / 100) + full_census_merge[\"Median Monthly Owner Costs_2014\"] * full_census_merge[\"Average H%_2014\"] / 100\n",
    "full_census_merge[\"Weighted Cost_2019\"] = full_census_merge[\"Median Gross Rent_2019\"] * (1-full_census_merge[\"Average H%_2019\"] / 100) + full_census_merge[\"Median Monthly Owner Costs_2019\"] * full_census_merge[\"Average H%_2019\"] / 100\n",
    "full_census_merge"
   ]
  },
  {
   "cell_type": "code",
   "execution_count": null,
   "metadata": {},
   "outputs": [],
   "source": [
    "# Create Affordability Index\n",
    "full_census_merge[\"Affordability_2014\"] = full_census_merge[\"Weighted Cost_2014\"] / full_census_merge[\"Household Income_2014\"] * 12\n",
    "full_census_merge[\"Affordability_2019\"] = full_census_merge[\"Weighted Cost_2019\"] / full_census_merge[\"Household Income_2019\"] * 12\n",
    "full_census_merge"
   ]
  },
  {
   "cell_type": "code",
   "execution_count": null,
   "metadata": {},
   "outputs": [],
   "source": [
    "#Ecport of data for validation and data quality checks\n",
    "full_census_merge.to_csv(\"Full_Census_Merge.csv\", encoding=\"utf-8\", index=False)"
   ]
  },
  {
   "cell_type": "code",
   "execution_count": null,
   "metadata": {},
   "outputs": [],
   "source": [
    "# Add population growth metrics by zip code\n",
    "full_census_merge[\"Population Growth\"] = full_census_merge[\"Population_2019\"] - full_census_merge[\"Population_2014\"]\n",
    "full_census_merge[\"Population Growth %\"] = full_census_merge[\"Population Growth\"] / full_census_merge[\"Population_2014\"]"
   ]
  },
  {
   "cell_type": "code",
   "execution_count": null,
   "metadata": {},
   "outputs": [],
   "source": [
    "# Add change in income metric by zip code\n",
    "full_census_merge[\"Change in Income\"] = full_census_merge[\"Household Income_2019\"] - full_census_merge[\"Household Income_2014\"]\n",
    "full_census_merge[\"Change in Income %\"] = full_census_merge[\"Change in Income\"] / full_census_merge[\"Household Income_2014\"]"
   ]
  },
  {
   "cell_type": "code",
   "execution_count": null,
   "metadata": {},
   "outputs": [],
   "source": [
    "# Add change in Weighted Cost\n",
    "full_census_merge[\"Change in Weighted Cost\"] = full_census_merge[\"Weighted Cost_2019\"] - full_census_merge[\"Weighted Cost_2014\"]\n",
    "full_census_merge[\"Change in Weighted Cost %\"] = full_census_merge[\"Change in Weighted Cost\"] / full_census_merge[\"Weighted Cost_2014\"]\n",
    "full_census_merge"
   ]
  },
  {
   "cell_type": "code",
   "execution_count": null,
   "metadata": {},
   "outputs": [],
   "source": [
    "# Add change in Affordability\n",
    "full_census_merge[\"Change in Affordability\"] = full_census_merge[\"Affordability_2019\"] - full_census_merge[\"Affordability_2014\"]\n",
    "full_census_merge[\"Change in Affordability %\"] = full_census_merge[\"Change in Affordability\"] / full_census_merge[\"Affordability_2014\"]"
   ]
  },
  {
   "cell_type": "code",
   "execution_count": null,
   "metadata": {},
   "outputs": [],
   "source": [
    "#Export of full census merge data after the affordability and change in affordability were calculated\n",
    "#Export was to allow validation and data quality work to be conducted\n",
    "\n",
    "full_census_merge.to_csv(\"Full_Census_Merge_Metrics.csv\", encoding=\"utf-8\", index=False)"
   ]
  },
  {
   "cell_type": "code",
   "execution_count": null,
   "metadata": {},
   "outputs": [],
   "source": [
    "#Used groupby function on the cleaned full census data clean to create calculations used in the later data frames, calculations\n",
    "#and Analysi\n",
    "\n",
    "MSA_agg = full_census_merge.groupby(['MANAME']).agg(\n",
    "    Zip_count = ('Zipcode','count'),\n",
    "    Population_2014 = ('Population_2014','sum'),\n",
    "    Population_2019 = ('Population_2019','sum'),\n",
    "    Population_growth = ('Population Growth','sum'),\n",
    "    Affordability_2019 = ('Affordability_2019','mean'),\n",
    "    Income_Growth = ('Change in Income %', 'mean'),\n",
    "    Weighted_Cost_Change = ('Change in Weighted Cost %','mean'),\n",
    "    Affordability_Change = ('Change in Affordability %','mean')\n",
    ").reset_index()    \n",
    "\n",
    "MSA_agg"
   ]
  },
  {
   "cell_type": "code",
   "execution_count": null,
   "metadata": {
    "scrolled": true
   },
   "outputs": [],
   "source": [
    "#Calcuation of the Population Growth Percentage Metric\n",
    "MSA_agg[\"Population_growth_%\"] = MSA_agg[\"Population_growth\"] / MSA_agg[\"Population_2014\"]\n",
    "MSA_agg"
   ]
  },
  {
   "cell_type": "code",
   "execution_count": null,
   "metadata": {},
   "outputs": [],
   "source": [
    "MSA_agg.to_csv(\"MSA_Agg.csv\", encoding=\"utf-8\", index=False)"
   ]
  },
  {
   "cell_type": "code",
   "execution_count": null,
   "metadata": {
    "scrolled": true
   },
   "outputs": [],
   "source": [
    "#Data Frame of the MSA withs top growth by %\n",
    "#Data frame used later with Atlanta data for charting and regression analysis\n",
    "\n",
    "MSA_top_growth=MSA_agg.nlargest(5,'Population_growth_%')\n",
    "MSA_top_growth"
   ]
  },
  {
   "cell_type": "code",
   "execution_count": null,
   "metadata": {},
   "outputs": [],
   "source": [
    "#Data Frame to include atlanta in top 5 comparison\n",
    "#Data Frame referenced/used in later charting\n",
    "MSA_top_growth_atl = MSA_top_growth.append(MSA_agg[MSA_agg[\"MANAME\"]==\"Atlanta-Sandy Springs-Roswell GA\"])\n",
    "MSA_top_growth_atl"
   ]
  },
  {
   "cell_type": "code",
   "execution_count": null,
   "metadata": {
    "scrolled": true
   },
   "outputs": [],
   "source": [
    "#Create DF for Bar Graph to identify 5 slowest growing MSAs by population % change.\n",
    "#Note: all 5 of the bottom have negative growth and affordability\n",
    "\n",
    "MSA_bottom_growth = MSA_agg.nsmallest(5,'Population_growth_%')\n",
    "MSA_bottom_growth"
   ]
  },
  {
   "cell_type": "code",
   "execution_count": null,
   "metadata": {},
   "outputs": [],
   "source": [
    "#Create DF for Bar Graph to identify 5 least affordable\n",
    "\n",
    "MSA_least_affordable=MSA_agg.nlargest(5,'Affordability_2019')\n",
    "MSA_least_affordable"
   ]
  },
  {
   "cell_type": "code",
   "execution_count": null,
   "metadata": {},
   "outputs": [],
   "source": [
    "# Export CSV's for analysis\n",
    "#THis was a data validation and analysis step.  \n",
    "#This validation allowed the team to identify the Top 5 growing MSA by growth, bottom 5 MSAs by growth and Least affordable MSAs\n",
    "\n",
    "MSA_top_growth_atl.to_csv(\"MSA_top_growth_atl.csv\", encoding=\"utf-8\", index=False)\n",
    "MSA_bottom_growth.to_csv(\"MSA_bottom_growth.csv\", encoding=\"utf-8\", index=False)\n",
    "MSA_least_affordable.to_csv(\"MSA_least_affordable.csv\", encoding=\"utf-8\", index=False)"
   ]
  },
  {
   "cell_type": "code",
   "execution_count": null,
   "metadata": {},
   "outputs": [],
   "source": [
    "#Top 5 MSA identied through the above analysis that met the study criteria\n",
    "top_msa_name = [\"Austin-Round Rock TX\", \"Orlando-Kissimmee-Sanford FL\", \"Raleigh NC\", \"Houston-The Woodlands-Sugar Land TX\", \"San Antonio-New Braunfels TX\", \"Atlanta-Sandy Springs-Roswell GA\"]\n"
   ]
  },
  {
   "cell_type": "code",
   "execution_count": null,
   "metadata": {},
   "outputs": [],
   "source": [
    "#Merging the initial data after cleaning from the census API for the ACS 5 Year with the MSA data with the list of MSAs we identified\n",
    "#as being in the top 5 as it related to % prowth and Affordability.\n",
    "#The MSA data assigned many to most of the zip codes to a MSA.\n",
    "#Merge using the isin function.\n",
    "#Data frame printed to validate merge results\n",
    "\n",
    "msa_top_growth_zip = full_census_merge[full_census_merge.MANAME.isin(top_msa_name)]\n",
    "msa_top_growth_zip"
   ]
  },
  {
   "cell_type": "code",
   "execution_count": null,
   "metadata": {},
   "outputs": [],
   "source": [
    "#Creation and export of the MSAs with the top growh out to CSV.\n",
    "#As we learned and worked with our datasets, we chose to periodicially export the data and leverage other tools\n",
    "#To validat our results and initial conclusions generated inside the noteboook\n",
    "#NOTE: Date validation and review were a significant commitment and required significiant project time.\n",
    "\n",
    "msa_top_growth_zip.to_csv(\"msa_top_growth_zip.csv\", encoding=\"utf-8\", index=False)"
   ]
  },
  {
   "cell_type": "code",
   "execution_count": null,
   "metadata": {},
   "outputs": [],
   "source": [
    "#Data Frame created to include atlanta in top 5 comparison of MSAs having largest Growth\n",
    "#Atlanta is this teams home and base for this bootcamp.  Thus, we wanted to also compare Atlanta\n",
    "MSA_top_growth_atl = MSA_top_growth.append(MSA_agg[MSA_agg[\"MANAME\"]==\"Atlanta-Sandy Springs-Roswell GA\"])\n",
    "MSA_top_growth_atl"
   ]
  },
  {
   "cell_type": "code",
   "execution_count": null,
   "metadata": {},
   "outputs": [],
   "source": [
    "#Needed to loop and anotate the points on the graph with the associated MSAs\n",
    "text = list(MSA_top_growth_atl['MANAME'])\n",
    "print(text)"
   ]
  },
  {
   "cell_type": "code",
   "execution_count": null,
   "metadata": {},
   "outputs": [],
   "source": [
    "#Linear Regression and Scatter plot to measure the relationship bewtween change in population and Change in affordability\n",
    "#view of data is by MSA\n",
    "#Chart uses the msa_top_growth_zip DataFrame created earlier \n",
    "\n",
    "x_values = pd.to_numeric(MSA_top_growth_atl[\"Population_growth_%\"]) #.astype(float)\n",
    "y_values = pd.to_numeric(MSA_top_growth_atl[\"Affordability_Change\"]) #.astype(float)\n",
    "(slope, intercept, rvalue, pvalue, stderr) = linregress(x_values, y_values)\n",
    "regress_values = x_values * slope + intercept\n",
    "line_eq = \"y = \" + str(round(slope,2)) + \"x + \" +str(round(intercept,2))\n",
    "# plot for northern hemisphere - max temp v/ latitude linear regression\n",
    "fig1,ax1 = plt.subplots(figsize=(15,10))\n",
    "plt.scatter(x_values, y_values, alpha = 0.90, edgecolors = 'k', linewidths = 1)\n",
    "plt.plot(x_values, regress_values, \"r--\")\n",
    "plt.annotate(line_eq,(.10 ,-.04),fontsize=14)\n",
    "plt.xlabel(\"Population Growth %\",fontsize=20)\n",
    "plt.ylabel(\"Affordability Change\",fontsize=20)\n",
    "plt.title(f\"Change in population % vs Change in Affordability by MSA\",fontsize=25)\n",
    "sns.set(style=\"whitegrid\")\n",
    "#calculations of p/r values\n",
    "print(f\"The P-Value is: {pvalue}\")\n",
    "print(f\"The R-Value is: {rvalue}\")\n",
    "print(f\"The r-squared is: {rvalue **2}\")\n",
    "\n",
    "text = list(MSA_top_growth_atl['MANAME'])\n",
    "xvals = list(x_values)\n",
    "yvals = list(y_values)\n",
    "for i in range(len(xvals)):\n",
    "    plt.annotate(text[i], (xvals[i], yvals[i]+0.003))\n",
    "\n",
    "\n",
    "#Save the image\n",
    "plt.savefig(\"files/ChangePopvChangeAffordbyMSA.png\",bbox_inches = \"tight\")\n",
    " \n",
    "plt.show()"
   ]
  },
  {
   "cell_type": "markdown",
   "metadata": {},
   "source": [
    "## Change in population % vs Change in Affordability by MSA with Regression"
   ]
  },
  {
   "cell_type": "code",
   "execution_count": null,
   "metadata": {},
   "outputs": [],
   "source": [
    "#Linear Regression and Scatter plot to measure the relationship bewtween change in population and Change in affordability\n",
    "#view of data is by zipcode\n",
    "#Chart uses the msa_top_growth_zip DataFrame created earlier\n",
    "\n",
    "x_values = pd.to_numeric(msa_top_growth_zip[\"Population Growth %\"]) \n",
    "y_values = pd.to_numeric(msa_top_growth_zip[\"Change in Affordability\"])\n",
    "\n",
    "(slope, intercept, rvalue, pvalue, stderr) = linregress(x_values, y_values)\n",
    "\n",
    "regress_values = x_values * slope + intercept\n",
    "line_eq = \"y = \" + str(round(slope,2)) + \"x + \" +str(round(intercept,2))\n",
    "\n",
    "fig1,ax1 = plt.subplots(figsize=(20,15))\n",
    "plt.scatter(x_values, y_values, alpha = 0.90, s = 22, edgecolors = 'k', linewidths = 5)\n",
    "plt.plot(x_values, regress_values, \"r--\")\n",
    "\n",
    "#plt.annotate(line_eq,(10 ,15),fontsize=14)\n",
    "\n",
    "plt.xlabel(\"Zipcode\",fontsize=20)\n",
    "plt.ylabel(\"Affordability Change\",fontsize=20)\n",
    "plt.title(f\"Change in Population Growth vs Change in Affordability by Zipcode\",fontsize=30)\n",
    "sns.set(style=\"whitegrid\")\n",
    "\n",
    "#calculations of p/r values\n",
    "print(f\"The P-Value is: {pvalue}\")\n",
    "print(f\"The R-Value is: {rvalue}\")\n",
    "print(f\"The r-squared is: {rvalue **2}\")\n",
    "\n",
    "plt.show()\n",
    "\n",
    "#Save the image\n",
    "plt.savefig(\"files/ChangeInPopGrowthvAffordChangebyZip.png\", bbox_inches = \"tight\")\n",
    " \n",
    "plt.show()"
   ]
  },
  {
   "cell_type": "code",
   "execution_count": null,
   "metadata": {},
   "outputs": [],
   "source": [
    "#Zips only to be used in the Geocoding via the Google API \n",
    "\n",
    "msa_top_growth_zip_only=msa_top_growth_zip['Zipcode'].reset_index(drop=True)\n",
    "msa_top_growth_zip_only\n",
    "msa_top_growth_zip_only\n"
   ]
  },
  {
   "cell_type": "code",
   "execution_count": null,
   "metadata": {},
   "outputs": [],
   "source": [
    " query_url = f'https://maps.googleapis.com/maps/api/geocode/json?address=30309=&sensor=true&key={g_key}'\n",
    " display(query_url)   "
   ]
  },
  {
   "cell_type": "markdown",
   "metadata": {},
   "source": [
    "#I have written this a 1,000 ways to Sunday and still cannot get this to generate the google map with zipcode points.\n",
    "#The URL returned is the correct URL for the zipcode\n",
    "#I am missing genertaing the map and cannot figure out had to add postal code as a lyer\n",
    "\n",
    "#Google Maps of our Cities\n",
    "import gmaps\n",
    "#figure = gmaps\n",
    "zips = msa_top_growth_zip_only\n",
    "i=len(msa_top_growth_zip_only)\n",
    "count=0\n",
    "#if count = i:\n",
    "if count < 4:\n",
    "    for zip in zips:\n",
    "\n",
    "        query_url = f'https://maps.googleapis.com/maps/api/geocode/json?address={zip}=&sensor=true&key={g_key}'\n",
    "        display(query_url)\n",
    "        result = requests.get(query_url).json()  \n",
    "        figure = gmaps.figure(zoom_level=3,center=(48.8566,2.3522))\n",
    "        \n",
    "        \n",
    "count =+1\n",
    "display(count)"
   ]
  },
  {
   "cell_type": "code",
   "execution_count": null,
   "metadata": {},
   "outputs": [],
   "source": [
    "msa_top_growth_zip_only=msa_top_growth_zip['Zipcode'].reset_index(drop=True)\n",
    "msa_top_growth_zip_only"
   ]
  },
  {
   "cell_type": "code",
   "execution_count": null,
   "metadata": {},
   "outputs": [],
   "source": [
    "text_bottom = list(MSA_bottom_growth['MANAME'])\n",
    "print(text_bottom)"
   ]
  },
  {
   "cell_type": "code",
   "execution_count": null,
   "metadata": {},
   "outputs": [],
   "source": [
    "#Linear \n",
    "x_values = pd.to_numeric(MSA_bottom_growth[\"Population_growth_%\"]) #.astype(float)\n",
    "y_values = pd.to_numeric(MSA_bottom_growth[\"Affordability_Change\"]) #.astype(float)\n",
    "(slope, intercept, rvalue, pvalue, stderr) = linregress(x_values, y_values)\n",
    "regress_values = x_values * slope + intercept\n",
    "line_eq = \"y = \" + str(round(slope,2)) + \"x + \" +str(round(intercept,2))\n",
    "# plot for northern hemisphere - max temp v/ latitude linear regression\n",
    "fig1,ax1 = plt.subplots(figsize=(15,10))\n",
    "plt.scatter(x_values, y_values, alpha = 0.90, edgecolors = 'k', linewidths = 1)\n",
    "plt.plot(x_values, regress_values, \"r--\")\n",
    "#plt.annotate(line_eq,(.10 ,-.04),fontsize=14)\n",
    "plt.xlabel(\"Population Growth %\",fontsize=20)\n",
    "plt.ylabel(\"Affordability Change\",fontsize=20)\n",
    "plt.title(f\"Negative Population % Growth vs Change in Affordability\",fontsize=25)\n",
    "sns.set(style=\"whitegrid\")\n",
    "#calculations of p/r values\n",
    "print(f\"The P-Value is: {pvalue}\")\n",
    "print(f\"The R-Value is: {rvalue}\")\n",
    "print(f\"The r-squared is: {rvalue **2}\")\n",
    "\n",
    "text_bottom = list(MSA_bottom_growth['MANAME'])\n",
    "xvals = list(x_values)\n",
    "yvals = list(y_values)\n",
    "for i in range(len(xvals)):\n",
    "    plt.annotate(text_bottom[i], (xvals[i], yvals[i]+0.002))\n",
    "#save plot as png\n",
    "\n",
    "\n",
    "#Save the image\n",
    "plt.savefig(\"files/NegativePopGrowthLinearRegression.png\")\n",
    "plt.show()"
   ]
  },
  {
   "cell_type": "code",
   "execution_count": null,
   "metadata": {},
   "outputs": [],
   "source": []
  },
  {
   "cell_type": "code",
   "execution_count": null,
   "metadata": {},
   "outputs": [],
   "source": []
  }
 ],
 "metadata": {
  "anaconda-cloud": {},
  "kernelspec": {
   "display_name": "Python [conda env:PythonData] *",
   "language": "python",
   "name": "conda-env-PythonData-py"
  },
  "language_info": {
   "codemirror_mode": {
    "name": "ipython",
    "version": 3
   },
   "file_extension": ".py",
   "mimetype": "text/x-python",
   "name": "python",
   "nbconvert_exporter": "python",
   "pygments_lexer": "ipython3",
   "version": "3.6.10"
  },
  "latex_envs": {
   "LaTeX_envs_menu_present": true,
   "autoclose": false,
   "autocomplete": true,
   "bibliofile": "biblio.bib",
   "cite_by": "apalike",
   "current_citInitial": 1,
   "eqLabelWithNumbers": true,
   "eqNumInitial": 1,
   "hotkeys": {
    "equation": "Ctrl-E",
    "itemize": "Ctrl-I"
   },
   "labels_anchors": false,
   "latex_user_defs": false,
   "report_style_numbering": false,
   "user_envs_cfg": false
  }
 },
 "nbformat": 4,
 "nbformat_minor": 1
}
